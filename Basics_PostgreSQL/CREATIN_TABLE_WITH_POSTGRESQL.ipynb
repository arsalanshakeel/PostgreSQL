{
 "cells": [
  {
   "cell_type": "markdown",
   "id": "4bdbffe0",
   "metadata": {},
   "source": [
    "## CREATING A TABLE WITH POSTGRESQL"
   ]
  },
  {
   "cell_type": "markdown",
   "id": "021f5742",
   "metadata": {},
   "source": [
    "### Import the library"
   ]
  },
  {
   "cell_type": "code",
   "execution_count": 1,
   "id": "c449b96c",
   "metadata": {},
   "outputs": [],
   "source": [
    "import psycopg2"
   ]
  },
  {
   "cell_type": "markdown",
   "id": "2d738a60",
   "metadata": {},
   "source": [
    "### Create a Connection to the database"
   ]
  },
  {
   "cell_type": "code",
   "execution_count": 2,
   "id": "ba8e4b0d",
   "metadata": {},
   "outputs": [],
   "source": [
    "try:\n",
    "    conn = psycopg2.connect(\"host=127.0.0.1 dbname=postgres user=postgres password=*******\")\n",
    "except psycopg2.Error as e:\n",
    "    print(\"Error: Could not connect to database\")\n",
    "    print(e)"
   ]
  },
  {
   "cell_type": "markdown",
   "id": "8c4f8d83",
   "metadata": {},
   "source": [
    "### Use the connection to get a cursor that can be used to excecute queries"
   ]
  },
  {
   "cell_type": "code",
   "execution_count": 3,
   "id": "d0b11f00",
   "metadata": {},
   "outputs": [],
   "source": [
    "try:\n",
    "    cur = conn.cursor()\n",
    "except psycopg2.Error as e:\n",
    "    print(\"Error: Could not get cursor to the database\")\n",
    "    print(e)"
   ]
  },
  {
   "cell_type": "markdown",
   "id": "8d1be8d2",
   "metadata": {},
   "source": [
    "### Set automatic commit to be true so that each action is commited without having to call conn.commit() after each query"
   ]
  },
  {
   "cell_type": "code",
   "execution_count": 4,
   "id": "b8f1024a",
   "metadata": {},
   "outputs": [],
   "source": [
    "conn.set_session(autocommit=True)"
   ]
  },
  {
   "cell_type": "markdown",
   "id": "6d276e84",
   "metadata": {},
   "source": [
    "### Create a database to do the work in"
   ]
  },
  {
   "cell_type": "code",
   "execution_count": 7,
   "id": "05589a23",
   "metadata": {},
   "outputs": [],
   "source": [
    "try:\n",
    "    cur.execute(\"create database basic_db\")\n",
    "except psycopg2.Error as e:\n",
    "    print(\"Error: Could not create database\")\n",
    "    print(e)"
   ]
  },
  {
   "cell_type": "markdown",
   "id": "1911f664",
   "metadata": {},
   "source": [
    "### Add the databse name in the connect statement. Let's close our connection to the default database, reconnect to the firstdb database, and get a new cursor"
   ]
  },
  {
   "cell_type": "code",
   "execution_count": 5,
   "id": "07e9d16b",
   "metadata": {},
   "outputs": [],
   "source": [
    "#Close the existing connect\n",
    "try:\n",
    "    conn.close()\n",
    "except psycopg2.Error as e:\n",
    "    print(e)\n",
    "    \n",
    " "
   ]
  },
  {
   "cell_type": "code",
   "execution_count": 8,
   "id": "ea731280",
   "metadata": {},
   "outputs": [],
   "source": [
    "   \n",
    "# Connect to new database\n",
    "try:\n",
    "    conn2 = psycopg2.connect(\"host=127.0.0.1 dbname=basic_db user=postgres password=********\")\n",
    "except psycopg2.Error as e:\n",
    "    print(\"Error: Could not connect to database\")\n",
    "    print(e)\n",
    "    \n",
    "\n",
    "#Create a cursor for the databse\n",
    "try:\n",
    "    cur = conn2.cursor()\n",
    "except psycopg2.Error as e:\n",
    "    print(\"Error: Could not get cursor to the database\")\n",
    "    print(e)\n",
    "    \n",
    "#Set auto commit\n",
    "conn2.set_session(autocommit=True)"
   ]
  },
  {
   "cell_type": "markdown",
   "id": "94268718",
   "metadata": {},
   "source": [
    "### CREATE TABLE for students which includes below column\n",
    "\n",
    "1. Student_id\n",
    "2. name\n",
    "3. age\n",
    "4. gender\n",
    "5. subject\n",
    "6. marks"
   ]
  },
  {
   "cell_type": "code",
   "execution_count": 9,
   "id": "cde0a584",
   "metadata": {},
   "outputs": [],
   "source": [
    "try:\n",
    "     cur.execute(\"CREATE TABLE IF NOT EXISTS student (student_id int, name varchar, age int, gender varchar , \\\n",
    "     subject varchar, marks int);\")\n",
    "except psycopg2.Error as e:\n",
    "    print(\"Error: Issue creating table\")\n",
    "    print(e)"
   ]
  },
  {
   "cell_type": "markdown",
   "id": "86a96c0e",
   "metadata": {},
   "source": [
    "### Insert the following rows in the table"
   ]
  },
  {
   "cell_type": "code",
   "execution_count": 10,
   "id": "20012dd9",
   "metadata": {},
   "outputs": [],
   "source": [
    "try:\n",
    "    cur.execute(\"INSERT INTO student (student_id, name, age, gender, subject, marks) \\\n",
    "                 VALUES (%s,%s,%s,%s,%s,%s)\",\\\n",
    "                (1, \"Muhammad\", 23, \"Male\", \"Python\", 85))\n",
    "except psycopg2.Error as e:\n",
    "    print(\"Error: Inserting Rows\")\n",
    "    print(e)\n",
    "    \n",
    "try:\n",
    "    cur.execute(\"INSERT INTO student (student_id, name, age, gender, subject, marks) \\\n",
    "                 VALUES (%s,%s,%s,%s,%s,%s)\",\\\n",
    "                (2, \"Ayesha\", 22, \"Female\", \"Java\", 92))\n",
    "except psycopg2.Error as e:\n",
    "    print(\"Error: Inserting Rows\")\n",
    "    print(e)"
   ]
  },
  {
   "cell_type": "markdown",
   "id": "25d216ca",
   "metadata": {},
   "source": [
    "### Validate you data was inserted into table"
   ]
  },
  {
   "cell_type": "code",
   "execution_count": 11,
   "id": "0418a14c",
   "metadata": {},
   "outputs": [
    {
     "name": "stdout",
     "output_type": "stream",
     "text": [
      "(1, 'Muhammad', 23, 'Male', 'Python', 85)\n",
      "(2, 'Ayesha', 22, 'Female', 'Java', 92)\n"
     ]
    }
   ],
   "source": [
    "cur.execute(\"SELECT * FROM student;\")\n",
    "\n",
    "row = cur.fetchone()\n",
    "while row:\n",
    "    print(row)\n",
    "    row = cur.fetchone()"
   ]
  },
  {
   "cell_type": "markdown",
   "id": "72648683",
   "metadata": {},
   "source": [
    "### And Finally Close your cursor and connection"
   ]
  },
  {
   "cell_type": "code",
   "execution_count": 12,
   "id": "5b9cb965",
   "metadata": {},
   "outputs": [],
   "source": [
    "cur.close()\n",
    "conn2.close()"
   ]
  }
 ],
 "metadata": {
  "kernelspec": {
   "display_name": "Python 3",
   "language": "python",
   "name": "python3"
  },
  "language_info": {
   "codemirror_mode": {
    "name": "ipython",
    "version": 3
   },
   "file_extension": ".py",
   "mimetype": "text/x-python",
   "name": "python",
   "nbconvert_exporter": "python",
   "pygments_lexer": "ipython3",
   "version": "3.9.1"
  }
 },
 "nbformat": 4,
 "nbformat_minor": 5
}
